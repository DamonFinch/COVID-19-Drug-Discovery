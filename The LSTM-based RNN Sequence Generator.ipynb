{
 "cells": [
  {
   "cell_type": "markdown",
   "metadata": {},
   "source": [
    "# BUILDING THE GENERATOR\n",
    "An LSTM-based RNN model serve as the SMILES string generator in this step, subsequently an RL network will\n",
    "utilize this as it's initialization step\n"
   ]
  },
  {
   "cell_type": "code",
   "execution_count": 4,
   "metadata": {},
   "outputs": [],
   "source": [
    "import numpy as np\n",
    "from matplotlib import pyplot as plt\n",
    "import pandas as pd\n",
    "import keras\n",
    "from keras import layers\n",
    "import random\n",
    "import sys\n",
    "import h5py"
   ]
  },
  {
   "cell_type": "markdown",
   "metadata": {},
   "source": [
    "## The Dataset\n",
    "The GDBChEMBL SMILES string dataset gotten from GenBank was used for training the generator in this step"
   ]
  },
  {
   "cell_type": "code",
   "execution_count": 5,
   "metadata": {},
   "outputs": [
    {
     "name": "stdout",
     "output_type": "stream",
     "text": [
      "9978096\n",
      "25\n",
      "['CC1(O)C([NH3+])C1O', 'NS(=O)(=O)C(O)C([NH3+])C([O-])=O', 'CC1C([NH3+])C1O', 'CS(=O)(=O)NC1C([NH3+])C1O', 'NS(=O)(=O)C1OC1C([O-])=O', 'NS(=O)(=O)CCS(N)(=O)=O', 'NS(=O)(=O)C1OCC([NH3+])C1O', 'CC1CC1C', '[NH3+]C1C(O)C1(O)C([O-])=O', 'CC1CC2C3CC(C)C2C13']\n",
      "['\\n', '#', '(', ')', '+', '-', '1', '2', '3', '4']\n"
     ]
    }
   ],
   "source": [
    "smiles = []\n",
    "chars = []\n",
    "\n",
    "with open('data/GDBChEMBL.smi', 'r') as f:\n",
    "    text = f.read()\n",
    "    chars = sorted(list(set(text)))\n",
    "    smiles = text.split('\\n')\n",
    "\n",
    "print(len(smiles))\n",
    "print(len(chars))\n",
    "# print(text[:1000])\n",
    "print(smiles[:10])\n",
    "print(chars[:10])"
   ]
  },
  {
   "cell_type": "code",
   "execution_count": 6,
   "metadata": {},
   "outputs": [
    {
     "name": "stdout",
     "output_type": "stream",
     "text": [
      "57\n"
     ]
    }
   ],
   "source": [
    "maxlen = max([len(j) for j in smiles])\n",
    "print(maxlen)"
   ]
  },
  {
   "cell_type": "code",
   "execution_count": 7,
   "metadata": {},
   "outputs": [],
   "source": [
    "def reweight_distribution(original_distribution, temperature=0.5):\n",
    "    distribution = np.log(original_distribution) / temperature\n",
    "    distribution = np.exp(distribution)\n",
    "    return distribution / np.sum(distribution)\n",
    "\n",
    "def sample(preds, temperature=1.0):\n",
    "    preds = np.asarray(preds).astype('float64')\n",
    "    preds = np.log(preds) / temperature\n",
    "    exp_preds = np.exp(preds)\n",
    "    preds = exp_preds / np.sum(exp_preds)\n",
    "    probas = np.random.multinomial(1, preds, 1)\n",
    "    return np.argmax(probas)"
   ]
  },
  {
   "cell_type": "markdown",
   "metadata": {},
   "source": [
    "## Preparing the next Character List\n",
    "A list of subsequent characters per every chunk subset of the original SMILES token, \n",
    "the resulting character list contained 137405065 elements"
   ]
  },
  {
   "cell_type": "code",
   "execution_count": 6,
   "metadata": {},
   "outputs": [
    {
     "name": "stdout",
     "output_type": "stream",
     "text": [
      "137405065\n"
     ]
    }
   ],
   "source": [
    "smile_next_chars = []\n",
    "smile_subsets = []\n",
    "start_idx = 0\n",
    "charslen = 3\n",
    "\n",
    "for smile in smiles:\n",
    "    for _ in range(int(len(smile)/2)):\n",
    "        end = 0\n",
    "        if len(smile) > charslen+1: end = len(smile)-charslen-1\n",
    "        start_idx = random.randint(0, end)\n",
    "        smile_subsets.append(smile[start_idx: start_idx+charslen])\n",
    "        smile_next_chars.append(smile[start_idx+charslen: start_idx+charslen+1])\n",
    "\n",
    "print(len(smile_next_chars))"
   ]
  },
  {
   "cell_type": "markdown",
   "metadata": {},
   "source": [
    "## Preparing the Input\n",
    "First randomly shuffling to increaing the entropy \n",
    "and then slicing the list to a maximum of one million entries (My system constraint)"
   ]
  },
  {
   "cell_type": "code",
   "execution_count": null,
   "metadata": {},
   "outputs": [],
   "source": [
    "# ONE HOT ENCODING\n",
    "print('Vectorization...')\n",
    "\n",
    "# np.random.shuffle(smile_subsets)\n",
    "train_samples = smile_subsets[:1000000]\n",
    "\n",
    "x = np.zeros((len(train_samples), maxlen, len(chars)), dtype=np.bool)\n",
    "y = np.zeros((len(train_samples), len(chars)), dtype=np.bool)\n",
    "\n",
    "for i, smile in enumerate(smiles):\n",
    "    for t, char in enumerate(smile[0]):\n",
    "        x[i, t, char_indices[char]] = 1\n",
    "    y[i, char_indices[next_chars[i]]] = 1"
   ]
  },
  {
   "cell_type": "markdown",
   "metadata": {},
   "source": [
    "## SETTING US THE MODEL\n",
    "An LSTM layer with 128 units followed by a Dense layer with a softmax activation"
   ]
  },
  {
   "cell_type": "code",
   "execution_count": null,
   "metadata": {},
   "outputs": [],
   "source": [
    "model = keras.models.Sequential()\n",
    "model.add(layers.LSTM(128, input_shape=(maxlen, len(chars))))\n",
    "model.add(layers.Dense(len(chars), activation='softmax'))\n",
    "\n",
    "optimizer = keras.optimizers.RMSprop(lr=0.01)\n",
    "model.compile(loss='categorical_crossentropy', optimizer=optimizer)"
   ]
  },
  {
   "cell_type": "markdown",
   "metadata": {},
   "source": [
    "## TRAINING THE GENERATOR\n",
    "The generator is trained on the subset of the prepared subset for 60 Epochs using a sampling mechanism after every\n",
    "sequence generation to further increase the entropy, using a series of sampling temperatures to analyze the distinctions \n",
    "in their randomness"
   ]
  },
  {
   "cell_type": "code",
   "execution_count": null,
   "metadata": {},
   "outputs": [],
   "source": [
    "for epoch in range(1, 60):\n",
    "    print('\\nepoch -- ', epoch)\n",
    "    \n",
    "    model.fit(x, y, batch_size=128, epochs=1)\n",
    "    random_smile_idx = random.randint(0, len(smiles)-1)\n",
    "    start_index = random.randint(0, len(smiles[random_smile_idx][0]) - charslen - 1)\n",
    "   \n",
    "    generated_text = smiles[random_smile_idx][0][start_index: start_index + charslen]\n",
    "    \n",
    "    print('--- Generating with seed: \"' + generated_text + '\"')\n",
    "    \n",
    "    for temperature in [0.5, 1.0, 1.2]:\n",
    "        print('\\n------ temperature:', temperature)\n",
    "        sys.stdout.write(generated_text)\n",
    "        \n",
    "        for i in range(100):\n",
    "            sampled = np.zeros((1, maxlen, len(chars)))\n",
    "            for t, char in enumerate(generated_text):3\n",
    "                sampled[0, t, char_indices[char]] = 1\n",
    "\n",
    "            preds = model.predict(sampled, verbose=0)[0]\n",
    "            next_index = sample(preds, temperature)\n",
    "            next_char = chars[next_index][0]\n",
    "            generated_text += next_char\n",
    "            generated_text = generated_text[1:]\n",
    "            sys.stdout.write(next_char)\n",
    "\n",
    "        sys.stdout.write(generated_text)"
   ]
  },
  {
   "cell_type": "code",
   "execution_count": null,
   "metadata": {},
   "outputs": [],
   "source": [
    "print('Saving model...')\n",
    "# serialize model to json\n",
    "model_json = model.to_json()\n",
    "\n",
    "with open(\"models/lstm-generator.json\", \"w\") as json_file:\n",
    "    json_file.write(model_json)\n",
    "    \n",
    "# save the model\n",
    "model.save(\"models/lstm-generator.h5\")\n",
    "\n",
    "# serialize weights to HDF5\n",
    "model.save_weights(\"models/lstm-generator-weights.h5\")\n",
    "print('saved')"
   ]
  }
 ],
 "metadata": {
  "kernelspec": {
   "display_name": "Python 3",
   "language": "python",
   "name": "python3"
  },
  "language_info": {
   "codemirror_mode": {
    "name": "ipython",
    "version": 3
   },
   "file_extension": ".py",
   "mimetype": "text/x-python",
   "name": "python",
   "nbconvert_exporter": "python",
   "pygments_lexer": "ipython3",
   "version": "3.6.5"
  }
 },
 "nbformat": 4,
 "nbformat_minor": 2
}
