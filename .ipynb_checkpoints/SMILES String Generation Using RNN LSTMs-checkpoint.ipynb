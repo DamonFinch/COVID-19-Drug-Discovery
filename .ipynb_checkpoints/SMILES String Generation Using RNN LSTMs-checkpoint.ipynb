{
 "cells": [
  {
   "cell_type": "code",
   "execution_count": 46,
   "metadata": {},
   "outputs": [],
   "source": [
    "import numpy as np\n",
    "from matplotlib import pyplot as plt\n",
    "import pandas as pd\n",
    "import keras"
   ]
  },
  {
   "cell_type": "code",
   "execution_count": 47,
   "metadata": {},
   "outputs": [
    {
     "data": {
      "text/html": [
       "<div>\n",
       "<style scoped>\n",
       "    .dataframe tbody tr th:only-of-type {\n",
       "        vertical-align: middle;\n",
       "    }\n",
       "\n",
       "    .dataframe tbody tr th {\n",
       "        vertical-align: top;\n",
       "    }\n",
       "\n",
       "    .dataframe thead th {\n",
       "        text-align: right;\n",
       "    }\n",
       "</style>\n",
       "<table border=\"1\" class=\"dataframe\">\n",
       "  <thead>\n",
       "    <tr style=\"text-align: right;\">\n",
       "      <th></th>\n",
       "      <th>0</th>\n",
       "    </tr>\n",
       "  </thead>\n",
       "  <tbody>\n",
       "    <tr>\n",
       "      <th>0</th>\n",
       "      <td>C1=Cc2cc1nnc1snc(o2)-o-1</td>\n",
       "    </tr>\n",
       "    <tr>\n",
       "      <th>1</th>\n",
       "      <td>N1C2C3C4C5NC6C7C6C5(C13)C2N47</td>\n",
       "    </tr>\n",
       "    <tr>\n",
       "      <th>2</th>\n",
       "      <td>c1c2c[nH]c(nn3cnc(c#1)c3)-s-2</td>\n",
       "    </tr>\n",
       "    <tr>\n",
       "      <th>3</th>\n",
       "      <td>N=c1-c2cnn-1cnccc(=O)c2</td>\n",
       "    </tr>\n",
       "    <tr>\n",
       "      <th>4</th>\n",
       "      <td>C=Nn1-c2cccconc-1[nH]c2</td>\n",
       "    </tr>\n",
       "  </tbody>\n",
       "</table>\n",
       "</div>"
      ],
      "text/plain": [
       "                               0\n",
       "0       C1=Cc2cc1nnc1snc(o2)-o-1\n",
       "1  N1C2C3C4C5NC6C7C6C5(C13)C2N47\n",
       "2  c1c2c[nH]c(nn3cnc(c#1)c3)-s-2\n",
       "3        N=c1-c2cnn-1cnccc(=O)c2\n",
       "4        C=Nn1-c2cccconc-1[nH]c2"
      ]
     },
     "execution_count": 47,
     "metadata": {},
     "output_type": "execute_result"
    }
   ],
   "source": [
    "df = pd.read_csv('data/preped-smiles.smi.csv')\n",
    "df1 = pd.read_csv('data/unique_smile_chars.csv')\n",
    "\n",
    "df.head()"
   ]
  },
  {
   "cell_type": "code",
   "execution_count": 113,
   "metadata": {},
   "outputs": [
    {
     "name": "stdout",
     "output_type": "stream",
     "text": [
      "36\n",
      "C1=Cc2cc1nnc1snc(o2)-o-1\n",
      "29\n"
     ]
    }
   ],
   "source": [
    "smiles = df.values.tolist()\n",
    "chars = df1.values.tolist()\n",
    "\n",
    "smile_len = [len(j[0]) for j in smiles]\n",
    "maxlen = max(smile_len)\n",
    "step = 3\n",
    "\n",
    "print(maxlen)\n",
    "print(smiles[0][0])\n",
    "print(len(chars))"
   ]
  },
  {
   "cell_type": "code",
   "execution_count": 118,
   "metadata": {},
   "outputs": [
    {
     "name": "stdout",
     "output_type": "stream",
     "text": [
      "1000000\n",
      "29\n"
     ]
    }
   ],
   "source": [
    "smiles_dict = {}\n",
    "a=0\n",
    "for k in smiles:\n",
    "    smiles_dict[a] = k[0]\n",
    "    a+=1\n",
    "\n",
    "chars_dict = {}\n",
    "a=0\n",
    "for k in chars:\n",
    "    chars_dict[a] = k[0]\n",
    "    a+=1\n",
    "    \n",
    "print(len(smiles_dict))\n",
    "print(len(chars_dict))"
   ]
  },
  {
   "cell_type": "code",
   "execution_count": 126,
   "metadata": {},
   "outputs": [
    {
     "name": "stdout",
     "output_type": "stream",
     "text": [
      "1000000\n",
      "C\n"
     ]
    }
   ],
   "source": [
    "next_chars = []\n",
    "for idx, val in smiles_dict.items():\n",
    "    if idx < len(smiles_dict)-1:\n",
    "        next_chars.append(smiles_dict[idx+1][0][0])\n",
    "    else:\n",
    "        next_chars.append(smiles_dict[0][0][0])\n",
    "\n",
    "print(len(next_chars))\n",
    "print(next_chars[999999])"
   ]
  },
  {
   "cell_type": "code",
   "execution_count": 133,
   "metadata": {},
   "outputs": [
    {
     "name": "stdout",
     "output_type": "stream",
     "text": [
      "Vectorization...\n"
     ]
    }
   ],
   "source": [
    "# ONE HOT ENCODING\n",
    "print('Vectorization...')\n",
    "\n",
    "char_indices = dict((char, idx) for idx, char in chars_dict.items())\n",
    "\n",
    "x = np.zeros((len(smiles), maxlen, len(chars)), dtype=np.bool)\n",
    "y = np.zeros((len(smiles), len(chars)), dtype=np.bool)\n",
    "\n",
    "for i, smile in enumerate(smiles):\n",
    "    for t, char in enumerate(smile[0]):\n",
    "        x[i, t, char_indices[char]] = 1\n",
    "    y[i, char_indices[next_chars[i]]] = 1"
   ]
  },
  {
   "cell_type": "code",
   "execution_count": 136,
   "metadata": {},
   "outputs": [],
   "source": [
    "from keras import layers\n",
    "model = keras.models.Sequential()\n",
    "model.add(layers.LSTM(128, input_shape=(maxlen, len(chars))))\n",
    "model.add(layers.Dense(len(chars), activation='softmax'))\n",
    "\n",
    "optimizer = keras.optimizers.RMSprop(lr=0.01)\n",
    "model.compile(loss='categorical_crossentropy', optimizer=optimizer)"
   ]
  },
  {
   "cell_type": "code",
   "execution_count": 138,
   "metadata": {},
   "outputs": [],
   "source": [
    "def reweight_distribution(original_distribution, temperature=0.5):\n",
    "    distribution = np.log(original_distribution) / temperature\n",
    "    distribution = np.exp(distribution)\n",
    "    return distribution / np.sum(distribution)\n",
    "\n",
    "def sample(preds, temperature=1.0):\n",
    "    preds = np.asarray(preds).astype('float64')\n",
    "    preds = np.log(preds) / temperature\n",
    "    exp_preds = np.exp(preds)\n",
    "    preds = exp_preds / np.sum(exp_preds)\n",
    "    probas = np.random.multinomial(1, preds, 1)\n",
    "    return np.argmax(probas)"
   ]
  },
  {
   "cell_type": "code",
   "execution_count": null,
   "metadata": {},
   "outputs": [],
   "source": [
    "import random\n",
    "import sys\n",
    "for epoch in range(1, 60):\n",
    "    print('epoch', epoch)\n",
    "    \n",
    "    model.fit(x, y, batch_size=128, epochs=1)\n",
    "    #start_index = random.randint(0, len(text) - maxlen - 1)\n",
    "    #generated_text = text[start_index: start_index + maxlen]\n",
    "    \n",
    "    start_index = random.randint(0, len(smiles)-1)\n",
    "    generated_text = text[start_index]\n",
    "    \n",
    "    print('--- Generating with seed: \"' + generated_text + '\"')\n",
    "    \n",
    "    for temperature in [0.2, 0.5, 1.0, 1.2]:\n",
    "        print('------ temperature:', temperature)\n",
    "        sys.stdout.write(generated_text)\n",
    "        \n",
    "        for i in range(400):\n",
    "        sampled = np.zeros((1, maxlen, len(chars)))\n",
    "        for t, char in enumerate(generated_text):\n",
    "            sampled[0, t, char_indices[char]] = 1\n",
    "            \n",
    "        preds = model.predict(sampled, verbose=0)[0]\n",
    "        next_index = sample(preds, temperature)\n",
    "        next_char = chars[next_index]\n",
    "        generated_text += next_char\n",
    "        generated_text = generated_text[1:]\n",
    "        sys.stdout.write(next_char)"
   ]
  },
  {
   "cell_type": "code",
   "execution_count": null,
   "metadata": {},
   "outputs": [],
   "source": []
  }
 ],
 "metadata": {
  "kernelspec": {
   "display_name": "Python 3",
   "language": "python",
   "name": "python3"
  },
  "language_info": {
   "codemirror_mode": {
    "name": "ipython",
    "version": 3
   },
   "file_extension": ".py",
   "mimetype": "text/x-python",
   "name": "python",
   "nbconvert_exporter": "python",
   "pygments_lexer": "ipython3",
   "version": "3.6.5"
  }
 },
 "nbformat": 4,
 "nbformat_minor": 2
}
