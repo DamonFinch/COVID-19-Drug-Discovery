{
 "cells": [
  {
   "cell_type": "code",
   "execution_count": 55,
   "metadata": {},
   "outputs": [],
   "source": [
    "import numpy as np\n",
    "from matplotlib import pyplot as plt\n",
    "import pandas as pd"
   ]
  },
  {
   "cell_type": "code",
   "execution_count": 84,
   "metadata": {},
   "outputs": [
    {
     "name": "stdout",
     "output_type": "stream",
     "text": [
      "C1=Cc2cc1nnc1snc(o2)-o-1\t0\t68.18253494262696\n",
      "N1C2C3C4C5NC6C7C6C5(C13)C2N47\t0\t67.35286888122559\n",
      "c1c2c[nH]c(nn3cnc(c#1)c3)-s-2\t0\t65.05410568237305\n",
      "N=c1-c2cnn-1cnccc(=O)c2\t0\t62.522982025146476\n",
      "C=Nn1-c2cccconc-1[nH]c2\t0\t59.586299133300784\n",
      "Cn1[nH]c2c(=O)oc=2c2c1N=NC2\t0\t52.65707077026367\n",
      "c1c#cc2oc(ccc#1)c1c2CN1\t0\t50.6141535949707\n",
      "c1cnnc2oc(cc#1)C1(CC1)C2\t0\t49.42664123535156\n",
      "c1cnnc2oc(cc#1)CC21CO1\t0\t49.16764190673828\n",
      "c1cc2nc3nc(ccc1[nH]2)s[nH]3\t0\t47.05190971374512\n",
      "N1=C2NOC3C4OC5OC4C2C53N1\t0\t46.81834289550781\n",
      "C1#CCN=c2ccn3c(ccn2-3)=C1\t0\t46.3324853515625\n",
      "c1cc2c(on3cc4c(c23)OC4)s1\t0\t45.21253662109375\n",
      "C1C2OC3C4N=C5SN=NN5C43C12\t0\t44.489554748535156\n",
      "Cn1c2nc3c1C(O)=C1NNC2C13\t0\t44.13025283813477\n",
      "O=S1(=O)C=C2CC(O)=C2C2=C1CN2\t0\t44.06183746337891\n",
      "OC12C3CC4C5C6=CC(C5C31)C42O6\t0\t44.029368896484385\n",
      "c1c2c(nc3c4c(cn13)OC4)NC2\t0\t43.280268859863284\n",
      "CC1C2Nc3c4ncnc-4sn3C12\t0\t43.091232681274406\n",
      "OC1=CC(O)=C(Cl)C2=C(Cl)C1=NC2\t0\t42.92097961425781\n",
      "C1CC12C1C3C4C5C6NC42C(C65)N31\t0\t42.75331527709961\n",
      "O=C1CC2(O)Cc3[nH]c(c\n"
     ]
    }
   ],
   "source": [
    "with open('data/gdb13.1M.freq.ll.smi', 'r') as f:    \n",
    "    text = f.read()\n",
    "\n",
    "print(text[:1000])"
   ]
  },
  {
   "cell_type": "code",
   "execution_count": 86,
   "metadata": {},
   "outputs": [
    {
     "name": "stdout",
     "output_type": "stream",
     "text": [
      "1000000\n",
      "['C1=Cc2cc1nnc1snc(o2)-o-1', 'N1C2C3C4C5NC6C7C6C5(C13)C2N47', 'c1c2c[nH]c(nn3cnc(c#1)c3)-s-2', 'N=c1-c2cnn-1cnccc(=O)c2', 'C=Nn1-c2cccconc-1[nH]c2', 'Cn1[nH]c2c(=O)oc=2c2c1N=NC2', 'c1c#cc2oc(ccc#1)c1c2CN1', 'c1cnnc2oc(cc#1)C1(CC1)C2', 'c1cnnc2oc(cc#1)CC21CO1', 'c1cc2nc3nc(ccc1[nH]2)s[nH]3']\n",
      "29\n",
      "['#', '(', ')', '+', '-', '.', '0', '1', '2', '3', '4', '5', '6', '7', '8', '9', '=', 'C', 'H', 'N', 'O', 'S', '[', ']', 'c', 'l', 'n', 'o', 's']\n"
     ]
    }
   ],
   "source": [
    "# read the SMILE and Unique Chars into lists\n",
    "smiles = []\n",
    "chars = []\n",
    "\n",
    "with open('data/gdb13.1M.freq.ll.smi', 'r') as f:    \n",
    "    inps = f.read()\n",
    "    chars = sorted(list(set(inps)))\n",
    "    inps = inps.split('\\n')\n",
    "    \n",
    "    smiles = [i.split('\\t')[0] for i in inps if i.split('\\t')[0] != '']\n",
    "\n",
    "print(len(smiles))\n",
    "print(smiles[:10])\n",
    "\n",
    "chars.remove('\\t')\n",
    "chars.remove('\\n')\n",
    "\n",
    "print(len(chars))\n",
    "print(chars)"
   ]
  },
  {
   "cell_type": "code",
   "execution_count": 80,
   "metadata": {},
   "outputs": [],
   "source": [
    "with open('data/preped.smi', 'w') as f:\n",
    "    f.write(str(smiles))"
   ]
  },
  {
   "cell_type": "code",
   "execution_count": 81,
   "metadata": {},
   "outputs": [],
   "source": [
    "# save cleaned data\n",
    "df = pd.DataFrame(smiles)\n",
    "df.to_csv('data/preped-smiles.smi.csv', index=None)\n",
    "\n",
    "df1 = pd.DataFrame(chars)\n",
    "df1.to_csv('data/unique_smile_chars.csv', index=None)"
   ]
  },
  {
   "cell_type": "code",
   "execution_count": null,
   "metadata": {},
   "outputs": [],
   "source": []
  }
 ],
 "metadata": {
  "kernelspec": {
   "display_name": "Python 3",
   "language": "python",
   "name": "python3"
  },
  "language_info": {
   "codemirror_mode": {
    "name": "ipython",
    "version": 3
   },
   "file_extension": ".py",
   "mimetype": "text/x-python",
   "name": "python",
   "nbconvert_exporter": "python",
   "pygments_lexer": "ipython3",
   "version": "3.6.5"
  }
 },
 "nbformat": 4,
 "nbformat_minor": 2
}
